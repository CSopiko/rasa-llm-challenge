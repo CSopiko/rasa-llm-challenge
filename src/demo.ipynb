{
 "cells": [
  {
   "cell_type": "markdown",
   "metadata": {},
   "source": [
    "## Imports"
   ]
  },
  {
   "cell_type": "code",
   "execution_count": 2,
   "metadata": {},
   "outputs": [],
   "source": [
    "from dotenv import load_dotenv\n",
    "import os\n",
    "import fnmatch\n",
    "from IPython.display import display, Markdown\n",
    "\n",
    "from langchain.embeddings import OpenAIEmbeddings\n",
    "from langchain.chains import RetrievalQA\n",
    "\n",
    "from github_utils import fetch_mdx_contents, get_files_from_github_repo, load_mdx_contents, save_mdx_content\n",
    "from retriever_utils import get_chroma_db, get_source_chunks, ask_question, chain_type_kwargs\n",
    "from langchain.chat_models import ChatOpenAI"
   ]
  },
  {
   "cell_type": "markdown",
   "metadata": {},
   "source": [
    "## Sctipt"
   ]
  },
  {
   "cell_type": "code",
   "execution_count": 3,
   "metadata": {},
   "outputs": [],
   "source": [
    "load_dotenv()\n",
    "# You need to set this in your .env file\n",
    "tag = \"3.6.x\"\n",
    "tag = \"main\"\n",
    "GITHUB_TOKEN = os.getenv(\"GITHUB_TOKEN\")\n",
    "REPO_OWNER = \"RasaHQ\"\n",
    "REPO_NAME = \"rasa\"\n",
    "\n",
    "EXIT_COMMAND = \"exit\"\n",
    "tag_path = tag.replace(\".\", \"_\")\n",
    "DOCS_MDX_PATH = f\"docs_cache/mdx_{tag_path}.pkl\"\n",
    "CHROMA_DB_PATH = f\"./chroma/{REPO_NAME}/{tag_path}\"\n",
    "\n",
    "repo_files = get_files_from_github_repo(REPO_OWNER, REPO_NAME, GITHUB_TOKEN, tag)\n"
   ]
  },
  {
   "cell_type": "code",
   "execution_count": 4,
   "metadata": {},
   "outputs": [
    {
     "name": "stdout",
     "output_type": "stream",
     "text": [
      "\n",
      "Warning: 60 of 107 files were downloaded.\n",
      "Please check your Github API rate limit.\n",
      "Using old mdx files from disk.\n",
      "Loaded 107 mdx files from disk.\n"
     ]
    }
   ],
   "source": [
    "\n",
    "mdx_files = [\n",
    "    file\n",
    "    for file in repo_files\n",
    "    if file[\"type\"] == \"blob\" and fnmatch.fnmatch(file[\"path\"], \"*.mdx\")\n",
    "]\n",
    "mdx_contents = fetch_mdx_contents(mdx_files, wait_for_renewal=False)\n",
    "\n",
    "if len(mdx_contents) < len(mdx_files):\n",
    "    print()\n",
    "    print(\n",
    "        f\"Warning: {len(mdx_contents)} of {len(mdx_files)} files were downloaded.\"\n",
    "    )\n",
    "    print(f\"Please check your Github API rate limit.\")\n",
    "    mdx_contents = load_mdx_contents(DOCS_MDX_PATH)\n",
    "    print(f\"Loaded {len(mdx_contents)} mdx files from disk.\")\n",
    "elif len(mdx_contents) == len(mdx_files):\n",
    "    save_mdx_content(DOCS_MDX_PATH, mdx_contents)\n",
    "    print(f\"Saved {len(mdx_contents)} mdx files to disk.\")\n"
   ]
  },
  {
   "cell_type": "code",
   "execution_count": null,
   "metadata": {},
   "outputs": [],
   "source": [
    "source_chunks = get_source_chunks(mdx_contents)\n",
    "\n",
    "embedding_model = OpenAIEmbeddings()\n",
    "chroma_db = get_chroma_db(CHROMA_DB_PATH, source_chunks, embedding_model)\n",
    "\n",
    "qa = RetrievalQA.from_chain_type(\n",
    "    chain_type=\"stuff\",\n",
    "    retriever=chroma_db.as_retriever(),\n",
    "    chain_type_kwargs=chain_type_kwargs,\n",
    "    llm=ChatOpenAI()\n",
    ")"
   ]
  },
  {
   "cell_type": "markdown",
   "metadata": {},
   "source": [
    "## Ask a Question"
   ]
  },
  {
   "cell_type": "code",
   "execution_count": 8,
   "metadata": {},
   "outputs": [
    {
     "data": {
      "text/markdown": [
       "**Question:** How to create a rasa project?"
      ],
      "text/plain": [
       "<IPython.core.display.Markdown object>"
      ]
     },
     "metadata": {},
     "output_type": "display_data"
    },
    {
     "data": {
      "text/markdown": [
       "**Answer:** To create a Rasa project, you can use the following command:\n",
       "\n",
       "```bash\n",
       "rasa init\n",
       "```\n",
       "\n",
       "This command will create a directory called `data` and set up the basic structure for your Rasa project.\n",
       "\n",
       "You can then remove the files in the `data` directory and add your own training data, configuration, and domain files.\n",
       "\n",
       "For more details, you can refer to the Rasa documentation on [Creating a Rasa Project](https://rasa.com/docs/rasa/user-guide/rasa-tutorial/#creating-a-new-rasa-project)."
      ],
      "text/plain": [
       "<IPython.core.display.Markdown object>"
      ]
     },
     "metadata": {},
     "output_type": "display_data"
    }
   ],
   "source": [
    "result = ask_question(\"How to create a rasa project?\", qa)\n",
    "\n",
    "# \"How should I pass intents data for training? rasa nlu\""
   ]
  },
  {
   "cell_type": "markdown",
   "metadata": {},
   "source": [
    "## Old Answer"
   ]
  },
  {
   "cell_type": "code",
   "execution_count": 109,
   "metadata": {},
   "outputs": [],
   "source": [
    "# res = qa.run(\"How should I pass intents data for training? rasa nlu\")"
   ]
  },
  {
   "cell_type": "code",
   "execution_count": 110,
   "metadata": {},
   "outputs": [
    {
     "data": {
      "text/markdown": [
       " You should pass intents data for training by grouping them under the `nlu` key.\n",
       "\n",
       "Training examples should be grouped by intent and listed under the `examples` key.\n",
       "\n",
       "You can also add extra information such as regular expressions and lookup tables to your training data to help the model identify intents and entities correctly."
      ],
      "text/plain": [
       "<IPython.core.display.Markdown object>"
      ]
     },
     "metadata": {},
     "output_type": "display_data"
    }
   ],
   "source": [
    "# from IPython.display import display, Markdown\n",
    "# display(Markdown(res.replace('. ', '.\\n\\n')))"
   ]
  }
 ],
 "metadata": {
  "kernelspec": {
   "display_name": "llm",
   "language": "python",
   "name": "python3"
  },
  "language_info": {
   "codemirror_mode": {
    "name": "ipython",
    "version": 3
   },
   "file_extension": ".py",
   "mimetype": "text/x-python",
   "name": "python",
   "nbconvert_exporter": "python",
   "pygments_lexer": "ipython3",
   "version": "3.10.11"
  },
  "orig_nbformat": 4
 },
 "nbformat": 4,
 "nbformat_minor": 2
}
